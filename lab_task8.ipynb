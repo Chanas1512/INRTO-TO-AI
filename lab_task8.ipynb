{
  "nbformat": 4,
  "nbformat_minor": 0,
  "metadata": {
    "colab": {
      "provenance": [],
      "authorship_tag": "ABX9TyMinVoJnjanNuYxqEujZhuw",
      "include_colab_link": true
    },
    "kernelspec": {
      "name": "python3",
      "display_name": "Python 3"
    },
    "language_info": {
      "name": "python"
    }
  },
  "cells": [
    {
      "cell_type": "markdown",
      "metadata": {
        "id": "view-in-github",
        "colab_type": "text"
      },
      "source": [
        "<a href=\"https://colab.research.google.com/github/Chanas1512/INRTO-TO-AI/blob/main/lab_task8.ipynb\" target=\"_parent\"><img src=\"https://colab.research.google.com/assets/colab-badge.svg\" alt=\"Open In Colab\"/></a>"
      ]
    },
    {
      "cell_type": "code",
      "execution_count": 1,
      "metadata": {
        "colab": {
          "base_uri": "https://localhost:8080/"
        },
        "id": "orSG7G-M2-1S",
        "outputId": "928ef7fc-efb6-4cc4-f517-39852072bb89"
      },
      "outputs": [
        {
          "output_type": "stream",
          "name": "stdout",
          "text": [
            "[[49  2 22  9 29 42 24 15 43 48]\n",
            " [16 28 42 37  2 12 47 13 21 17]\n",
            " [ 1 47  3  7 38 44 32 27 17 20]\n",
            " [13 11  2 10 33 47 20  2 15 38]\n",
            " [24 37 20 41 17 14 16  9 31 35]\n",
            " [31  7 36  5 37 14 40  8 41 49]\n",
            " [35  8 17 20  9 34  9 36 45 37]\n",
            " [23  4 30 34 17 28 20 49 41 19]\n",
            " [16 10 24 34 46  1 35 17 13 43]\n",
            " [18  3 20 47 42 24 43 35 16 39]]\n",
            "\n",
            "Step # 1\n",
            "Current state coordinates:  (3, 6)\n",
            "Current state value:  20\n",
            "\n",
            "Step # 2\n",
            "Current state coordinates:  (3, 5)\n",
            "Current state value:  47\n",
            "\n",
            "Step # 3\n",
            "Optimization objective reached.\n",
            "Final state coordinates:  (3, 5)\n",
            "Final state value:  47\n"
          ]
        }
      ],
      "source": [
        "import numpy as np\n",
        "\n",
        "\n",
        "def find_neighbours(state, landscape):\n",
        "    neighbours = []\n",
        "    dim = landscape.shape\n",
        "\n",
        "    # left neighbour\n",
        "    if state[0] != 0:\n",
        "        neighbours.append((state[0] - 1, state[1]))\n",
        "\n",
        "    # right neighbour\n",
        "    if state[0] != dim[0] - 1:\n",
        "        neighbours.append((state[0] + 1, state[1]))\n",
        "\n",
        "    # top neighbour\n",
        "    if state[1] != 0:\n",
        "        neighbours.append((state[0], state[1] - 1))\n",
        "\n",
        "    # bottom neighbour\n",
        "    if state[1] != dim[1] - 1:\n",
        "        neighbours.append((state[0], state[1] + 1))\n",
        "\n",
        "    # top left\n",
        "    if state[0] != 0 and state[1] != 0:\n",
        "        neighbours.append((state[0] - 1, state[1] - 1))\n",
        "\n",
        "    # bottom left\n",
        "    if state[0] != 0 and state[1] != dim[1] - 1:\n",
        "        neighbours.append((state[0] - 1, state[1] + 1))\n",
        "\n",
        "    # top right\n",
        "    if state[0] != dim[0] - 1 and state[1] != 0:\n",
        "        neighbours.append((state[0] + 1, state[1] - 1))\n",
        "\n",
        "    # bottom right\n",
        "    if state[0] != dim[0] - 1 and state[1] != dim[1] - 1:\n",
        "        neighbours.append((state[0] + 1, state[1] + 1))\n",
        "\n",
        "    return neighbours\n",
        "\n",
        "\n",
        "# Current optimization objective: local/global maximum\n",
        "def hill_climb(curr_state, landscape):\n",
        "    neighbours = find_neighbours(curr_state, landscape)\n",
        "    bool\n",
        "    ascended = False\n",
        "    next_state = curr_state\n",
        "    for neighbour in neighbours: #Find the neighbour with the greatest value\n",
        "        if landscape[neighbour[0]][neighbour[1]] > landscape[next_state[0]][next_state[1]]:\n",
        "            next_state = neighbour\n",
        "            ascended = True\n",
        "\n",
        "    return ascended, next_state\n",
        "\n",
        "\n",
        "def __main__():\n",
        "    landscape = np.random.randint(1, high=50, size=(10, 10))\n",
        "    print(landscape)\n",
        "    start_state = (3, 6)  # matrix index coordinates\n",
        "    current_state = start_state\n",
        "    count = 1\n",
        "    ascending = True\n",
        "    while ascending:\n",
        "        print(\"\\nStep #\", count)\n",
        "        print(\"Current state coordinates: \", current_state)\n",
        "        print(\"Current state value: \", landscape[current_state[0]][current_state[1]])\n",
        "        count += 1\n",
        "        ascending, current_state = hill_climb(current_state, landscape)\n",
        "\n",
        "    print(\"\\nStep #\", count)\n",
        "    print(\"Optimization objective reached.\")\n",
        "    print(\"Final state coordinates: \", current_state)\n",
        "    print(\"Final state value: \", landscape[current_state[0]][current_state[1]])\n",
        "\n",
        "\n",
        "__main__()\n",
        "\n",
        "\n",
        "\n"
      ]
    }
  ]
}