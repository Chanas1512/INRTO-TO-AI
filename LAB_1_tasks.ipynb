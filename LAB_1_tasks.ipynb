{
  "nbformat": 4,
  "nbformat_minor": 0,
  "metadata": {
    "colab": {
      "provenance": [],
      "collapsed_sections": [],
      "authorship_tag": "ABX9TyMOUcSL2/riabgc/mDSPLqu",
      "include_colab_link": true
    },
    "kernelspec": {
      "name": "python3",
      "display_name": "Python 3"
    },
    "language_info": {
      "name": "python"
    }
  },
  "cells": [
    {
      "cell_type": "markdown",
      "metadata": {
        "id": "view-in-github",
        "colab_type": "text"
      },
      "source": [
        "<a href=\"https://colab.research.google.com/github/Chanas1512/INRTO-TO-AI/blob/main/LAB_1_tasks.ipynb\" target=\"_parent\"><img src=\"https://colab.research.google.com/assets/colab-badge.svg\" alt=\"Open In Colab\"/></a>"
      ]
    },
    {
      "cell_type": "markdown",
      "source": [
        "MUHAMMAD ANAS ARIF  \n",
        " REG NO#SP22-BAI-026"
      ],
      "metadata": {
        "id": "ctnr3cqG0LWk"
      }
    },
    {
      "cell_type": "code",
      "execution_count": null,
      "metadata": {
        "colab": {
          "base_uri": "https://localhost:8080/"
        },
        "id": "GXXE3dPmssey",
        "outputId": "ba01cedb-2486-4a13-aa91-e3ee29b30bb0"
      },
      "outputs": [
        {
          "output_type": "stream",
          "name": "stdout",
          "text": [
            "Hello\n"
          ]
        }
      ],
      "source": [
        "print(\"Hello\")"
      ]
    },
    {
      "cell_type": "code",
      "source": [
        "n=input(\"Enter a number\")\n",
        "if int(n)%2==0:\n",
        "    print(\"the given number is an even number\")\n",
        "else:\n",
        "    print(\"the given number is an odd nmber\")"
      ],
      "metadata": {
        "colab": {
          "base_uri": "https://localhost:8080/"
        },
        "id": "ZwyoonF1tBrt",
        "outputId": "48b84972-aaca-473c-b4f4-9a498a923d0e"
      },
      "execution_count": null,
      "outputs": [
        {
          "output_type": "stream",
          "name": "stdout",
          "text": [
            "Enter a number3\n",
            "the given number is an odd nmber\n"
          ]
        }
      ]
    },
    {
      "cell_type": "code",
      "source": [
        "sum=0\n",
        "s=input(\"Enter an integer value...\")\n",
        "n=int(s)\n",
        "while n!=0:\n",
        "    sum=sum+n\n",
        "    s=input(\"Enter an integer value...\")\n",
        "    n=int(s)\n",
        "print(\"Sum of given values is \",sum)\n",
        "    "
      ],
      "metadata": {
        "colab": {
          "base_uri": "https://localhost:8080/"
        },
        "id": "vwVJRICRtCYC",
        "outputId": "078a9e38-123d-4a98-dd0f-ff550de7b265"
      },
      "execution_count": null,
      "outputs": [
        {
          "output_type": "stream",
          "name": "stdout",
          "text": [
            "Enter an integer value...2\n",
            "Enter an integer value...3\n",
            "Enter an integer value...76\n",
            "Enter an integer value...2\n",
            "Enter an integer value...0\n",
            "Sum of given values is  83\n"
          ]
        }
      ]
    },
    {
      "cell_type": "code",
      "source": [
        "isPrime= True\n",
        "i=2\n",
        "n=int(input(\"enter a number\"))\n",
        "while i<n:\n",
        "    remainder=n%i\n",
        "    if remainder==0:\n",
        "        isPrime==False\n",
        "        break\n",
        "    else:\n",
        "        i=i+1\n",
        "if isPrime:\n",
        "    print(\"number is Prime\")\n",
        "else:\n",
        "    print(\"number is not a prime\")"
      ],
      "metadata": {
        "colab": {
          "base_uri": "https://localhost:8080/"
        },
        "id": "jjqotcpBtCbJ",
        "outputId": "f076335f-b88b-40c0-ce40-409926fd470b"
      },
      "execution_count": null,
      "outputs": [
        {
          "output_type": "stream",
          "name": "stdout",
          "text": [
            "enter a number2\n",
            "number is Prime\n"
          ]
        }
      ]
    },
    {
      "cell_type": "code",
      "source": [
        "summation=0\n",
        "i=1\n",
        "while i<=10:\n",
        "    summation=summation+i\n",
        "    i=i+1\n",
        "print(\"sum is \",summation)\n"
      ],
      "metadata": {
        "colab": {
          "base_uri": "https://localhost:8080/"
        },
        "id": "YWauMtSJuzk9",
        "outputId": "479b09f8-60a5-404b-f74e-e20971fd05ca"
      },
      "execution_count": null,
      "outputs": [
        {
          "output_type": "stream",
          "name": "stdout",
          "text": [
            "sum is  55\n"
          ]
        }
      ]
    },
    {
      "cell_type": "code",
      "source": [
        "sum=0\n",
        "i=0\n",
        "while i<=4:\n",
        "    s=input(\"enter a number\")\n",
        "    n=int(s)\n",
        "    sum=sum+n\n",
        "    i=i+1\n",
        "print(\"sum is  \",sum)"
      ],
      "metadata": {
        "colab": {
          "base_uri": "https://localhost:8080/"
        },
        "id": "o4wxY44vu0AX",
        "outputId": "cbc38e5a-a22c-4387-e14e-7380f42c5a5c"
      },
      "execution_count": null,
      "outputs": [
        {
          "output_type": "stream",
          "name": "stdout",
          "text": [
            "enter a number4\n",
            "enter a number8\n",
            "enter a number2\n",
            "enter a number45\n",
            "enter a number5\n",
            "sum is   64\n"
          ]
        }
      ]
    },
    {
      "cell_type": "code",
      "source": [
        "\n",
        "name=input('what is your name?')\n",
        "print('Hello  '+ name)\n",
        "\n",
        "job=input('what is your job?')\n",
        "print('your job is '+job)\n",
        "\n",
        "num=input('give me a number?')\n",
        "print('you said: '+str(num))\n"
      ],
      "metadata": {
        "colab": {
          "base_uri": "https://localhost:8080/"
        },
        "id": "twmYyAIuvshk",
        "outputId": "09f75869-ca26-4232-82e2-999343edba6c"
      },
      "execution_count": null,
      "outputs": [
        {
          "output_type": "stream",
          "name": "stdout",
          "text": [
            "what is your name?Muhammad Anas Arif\n",
            "Hello  Muhammad Anas Arif\n",
            "what is your job?AI engineer\n",
            "your job is AI engineer\n",
            "give me a number?10\n",
            "you said: 10\n"
          ]
        }
      ]
    },
    {
      "cell_type": "code",
      "source": [
        "import random\n",
        "\n",
        "Minimum=1\n",
        "maximum=9\n",
        "number=random.randint(Minimum,maximum)\n",
        "guess=None\n",
        "another=None\n",
        "Try=0\n",
        "running=True\n",
        "\n",
        "print(\"Alright...\")\n",
        "\n",
        "while running:\n",
        "    guess=input(\"what is your lucky number?\")\n",
        "    if int(guess)<number:\n",
        "        print(\"wrong,too low\")\n",
        "    elif int(guess)>number:\n",
        "        print(\"wrong,too high\")\n",
        "    elif guess.lower()==\"exit\":\n",
        "        print(\"better luck next time\")\n",
        "    elif int(guess)==number:\n",
        "        print (\"yes,that,s the one \")\n",
        "        if Try < 2:\n",
        "            print(\"impressive, only \",Try,\" tries.\")\n",
        "        elif Try>2 and Try<10:\n",
        "            print(\"Pretty good \",Try,\" tries.\")\n",
        "        else:\n",
        "            print(\"bad\",Try,\" tries.\")\n",
        "            running=False\n",
        "    Try+=1\n",
        "              "
      ],
      "metadata": {
        "colab": {
          "base_uri": "https://localhost:8080/"
        },
        "id": "M6b_1zQWv5Og",
        "outputId": "f4ac8604-2fbf-4877-f294-d9c03b08c853"
      },
      "execution_count": null,
      "outputs": [
        {
          "output_type": "stream",
          "name": "stdout",
          "text": [
            "Alright...\n",
            "what is your lucky number?3\n",
            "wrong,too low\n",
            "what is your lucky number?6\n",
            "wrong,too high\n",
            "what is your lucky number?4\n",
            "yes,that,s the one \n",
            "bad 2  tries.\n"
          ]
        }
      ]
    },
    {
      "cell_type": "markdown",
      "source": [
        "INTRO TO AI LAB    LAB 1 TASKS"
      ],
      "metadata": {
        "id": "fv9jbmjgwXf7"
      }
    },
    {
      "cell_type": "code",
      "source": [
        "n=int(input(\"Enter number: \"))\n",
        "rev=0\n",
        "while(n>0):\n",
        "    dig=n%10\n",
        "    rev=rev*10+dig\n",
        "    n=n//10\n",
        "print(\"Reverse of the number:\",rev)"
      ],
      "metadata": {
        "colab": {
          "base_uri": "https://localhost:8080/"
        },
        "id": "wf1IJukSwhiz",
        "outputId": "b98b101e-68d3-4d00-9958-2d518a1f24a4"
      },
      "execution_count": null,
      "outputs": [
        {
          "output_type": "stream",
          "name": "stdout",
          "text": [
            "Enter number: 125\n",
            "Reverse of the number: 521\n"
          ]
        }
      ]
    },
    {
      "cell_type": "code",
      "source": [
        "setOfIntegers=[]\n",
        "n=int(input(\"enter the number of integers you want to enter\"))\n",
        "i=0\n",
        "while n-1>=i:\n",
        "    integer=int(input())\n",
        "    setOfIntegers.append(integer)\n",
        "    i=i+1\n",
        "k=0\n",
        "sumEven=0\n",
        "sumOdd=0\n",
        "while n-1>=k:\n",
        "    if setOfIntegers[k]%2==0:\n",
        "        sumEven=sumEven+setOfIntegers[k]\n",
        "    else:\n",
        "        sumOdd=sumOdd+setOfIntegers[k]\n",
        "    k=k+1\n",
        "print(\"The sum of even numbers is :\",sumEven)\n",
        "print(\"The sum of odd numbers is :\",sumOdd)\n"
      ],
      "metadata": {
        "colab": {
          "base_uri": "https://localhost:8080/"
        },
        "id": "Z6yGoqFpwsMj",
        "outputId": "5f0ad9c8-a75d-4497-e7fe-91b17ed5cd76"
      },
      "execution_count": null,
      "outputs": [
        {
          "output_type": "stream",
          "name": "stdout",
          "text": [
            "enter the number of integers you want to enter4\n",
            "2\n",
            "3\n",
            "4\n",
            "5\n",
            "The sum of even numbers is : 6\n",
            "The sum of odd numbers is : 8\n"
          ]
        }
      ]
    },
    {
      "cell_type": "code",
      "source": [
        "i=0\n",
        "k=1\n",
        "sum=0\n",
        "l=1\n",
        "while l<=10:\n",
        "    sum=i+k\n",
        "    print(sum,end=' ')\n",
        "    i=k\n",
        "    k=sum\n",
        "    l=l+1\n",
        "    \n"
      ],
      "metadata": {
        "colab": {
          "base_uri": "https://localhost:8080/"
        },
        "id": "X-ipL7S4wscA",
        "outputId": "f712cee2-aa9c-44ed-fa8e-c09e7cfc67c9"
      },
      "execution_count": null,
      "outputs": [
        {
          "output_type": "stream",
          "name": "stdout",
          "text": [
            "1 2 3 5 8 13 21 34 55 89 "
          ]
        }
      ]
    },
    {
      "cell_type": "code",
      "source": [
        "n=int(input(\"Enter a number\"))\n",
        "fact=1\n",
        "i=1\n",
        "while i<=n:\n",
        "    fact=fact*i\n",
        "    i=i+1\n",
        "print(\"The factorial of the number is\",fact)\n"
      ],
      "metadata": {
        "colab": {
          "base_uri": "https://localhost:8080/"
        },
        "id": "Q0srsx5axo28",
        "outputId": "04243f84-dd53-4038-8e84-837cc612726b"
      },
      "execution_count": null,
      "outputs": [
        {
          "output_type": "stream",
          "name": "stdout",
          "text": [
            "Enter a number5\n",
            "The factorial of the number is 120\n"
          ]
        }
      ]
    },
    {
      "cell_type": "code",
      "source": [
        "marks=int(input(\"Enter your marks\"))\n",
        "if marks<50:\n",
        "    print(\"YOUR GRADE IS F\")\n",
        "elif marks>50 and marks<60:\n",
        "    print(\"YOUR GRADE IS E\")\n",
        "elif marks>61 and marks<70:\n",
        "    print(\"YOUR GRADE IS D\")\n",
        "elif marks>71 and marks<80:\n",
        "    print(\"YOUR GRADE IS C\")\n",
        "elif marks>81 and marks<90:\n",
        "    print(\"YOUR GRADE IS B\")\n",
        "elif marks>91 and marks<=100:\n",
        "    print(\"YOUR GRADE IS A\")\n"
      ],
      "metadata": {
        "colab": {
          "base_uri": "https://localhost:8080/"
        },
        "id": "FfBlNxXKxx6D",
        "outputId": "4b87584b-62c3-4f89-a9dd-3f9e98438961"
      },
      "execution_count": null,
      "outputs": [
        {
          "output_type": "stream",
          "name": "stdout",
          "text": [
            "Enter your marks88\n",
            "YOUR GRADE IS B\n"
          ]
        }
      ]
    }
  ]
}